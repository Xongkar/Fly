{
 "cells": [
  {
   "cell_type": "code",
   "execution_count": 4,
   "id": "5a4f5296",
   "metadata": {},
   "outputs": [],
   "source": [
    "import pandas as pd\n",
    "from pandas_datareader import data\n",
    "import matplotlib.pyplot as plt\n",
    "import numpy as np\n",
    "import plotly.graph_objects as go\n",
    "import scipy.integrate as integrate"
   ]
  },
  {
   "cell_type": "markdown",
   "id": "c40014bd",
   "metadata": {},
   "source": [
    "Shows only change of percentage and steak"
   ]
  },
  {
   "cell_type": "code",
   "execution_count": 2,
   "id": "adf5c5b7",
   "metadata": {
    "scrolled": true
   },
   "outputs": [],
   "source": [
    "class Steak:\n",
    "    def __init__(self):\n",
    "        self.name=\"\"\n",
    "        self.num=0\n",
    "        self.close=0\n",
    "    def add(self,diff):\n",
    "        if(self.name==\"\"):\n",
    "            if(diff<0):\n",
    "                self.name=\"negative\"\n",
    "            else:\n",
    "                self.name=\"positive\"\n",
    "        elif(self.name==\"positive\"):\n",
    "            if(diff<0):\n",
    "                self.close=1\n",
    "            else:\n",
    "                self.num=self.num+1\n",
    "        elif(self.name==\"negative\"):\n",
    "            if(diff>0):\n",
    "                self.close=1\n",
    "            else:\n",
    "                self.num=self.num+1\n",
    "\n",
    "def change_steak(name,time):\n",
    "    data_read=data.get_data_yahoo(name,'05/30,/2010',interval=time )\n",
    "    data_read.head()\n",
    "    close=data_read[\"Close\"]\n",
    "    close[1]\n",
    "    len(close)\n",
    "    diff=np.array([])\n",
    "    steak_arr=np.array([])\n",
    "    last_1=np.array([])\n",
    "    #diff=np.append(diff,[1])\n",
    "    for i in range(len(close)):\n",
    "        #if(len(close)>i+1):\n",
    "           # print(close[i+1]-close[i])\n",
    "            if(i+1<len(close)-1):\n",
    "                diff=np.append(diff,[close[i+1]-close[i]])\n",
    "    steak=Steak()\n",
    "    for i in diff:\n",
    "        if(steak.close==0):\n",
    "            steak.add(i)\n",
    "        if(steak.close==1):\n",
    "            steak_arr=np.append(steak_arr,[steak])\n",
    "            steak=Steak()\n",
    "\n",
    "\n",
    "    for i in steak_arr:\n",
    "        if(i.name==\"negative\"):\n",
    "            last_1=np.append(last_1,-1*i.num)\n",
    "        else:\n",
    "            last_1=np.append(last_1,i.num)\n",
    "\n",
    "    plt.style.use('_mpl-gallery')\n",
    "    # plot:\n",
    "    import plotly.express as px\n",
    "    df = px.data.tips()\n",
    "    fig = px.histogram(last_1)\n",
    "    fig.show()\n",
    "\n",
    "    change_of_percentage=data_read[\"Close\"].pct_change()*100\n",
    "    plt.style.use('_mpl-gallery')\n",
    "\n",
    "    # plot:\n",
    "    df = px.data.tips()\n",
    "    fig = px.histogram(change_of_percentage)\n",
    "    fig.show()\n"
   ]
  },
  {
   "cell_type": "code",
   "execution_count": null,
   "id": "e09b47ec",
   "metadata": {},
   "outputs": [],
   "source": [
    "change_steak('aapl','d')"
   ]
  },
  {
   "cell_type": "code",
   "execution_count": 5,
   "id": "c2aa5609",
   "metadata": {},
   "outputs": [],
   "source": [
    "# Import package\n",
    "import yfinance as yf\n",
    "\n",
    "# Get the data\n",
    "data = yf.download(tickers=\"amd\", period=\"60d\", interval=\"15m\")\n",
    "\n",
    "# Print the data\n",
    "print(data.tail())\n",
    "change_of_percentage=data[\"Close\"].pct_change()\n",
    "df = px.data.tips()\n",
    "fig = px.histogram(change_of_percentage)\n",
    "fig.show()"
   ]
  },
  {
   "cell_type": "code",
   "execution_count": 6,
   "id": "60f77aca",
   "metadata": {},
   "outputs": [],
   "source": [
    "import random\n",
    "y=np.array([])\n",
    "x=np.array([])\n",
    "z=0"
   ]
  },
  {
   "cell_type": "code",
   "execution_count": 7,
   "id": "d2918062",
   "metadata": {},
   "outputs": [],
   "source": [
    "y=np.array([])\n",
    "x=np.array([])\n",
    "z=0\n",
    "\n",
    "for i in range(1,10000):\n",
    "    a=random.randrange(-1,2,2)\n",
    "    z+=a\n",
    "\n",
    "    y=np.append(y,z)\n",
    "    x=np.append(x,i)\n",
    "plt.plot(x,y)"
   ]
  },
  {
   "cell_type": "code",
   "execution_count": 10,
   "id": "787a5cd1",
   "metadata": {},
   "outputs": [],
   "source": [
    "import yfinance as yf\n",
    "import datetime\n",
    "\n",
    "def get_price(begining,end,name,interval):\n",
    "    data=yf.download(name,start=begining,end=end)\n",
    "    close=data['Close']\n",
    "    volume=data['Volume']\n",
    "    return close, volume,data\n"
   ]
  },
  {
   "cell_type": "code",
   "execution_count": 11,
   "id": "01d01d4d",
   "metadata": {},
   "outputs": [],
   "source": [
    "start='2010-01-01'\n",
    "end='2022-06-03'\n",
    "close,volume,data=get_price(start,end,\"AMZN\",'')\n",
    "plt.plot(np.log(close.pct_change()))\n"
   ]
  },
  {
   "cell_type": "code",
   "execution_count": null,
   "id": "3e76451f",
   "metadata": {},
   "outputs": [],
   "source": [
    "#consecutie drop of stock, and volume increased. "
   ]
  },
  {
   "cell_type": "code",
   "execution_count": 28,
   "id": "8bb3df59",
   "metadata": {},
   "outputs": [],
   "source": []
  },
  {
   "cell_type": "code",
   "execution_count": null,
   "id": "30698314",
   "metadata": {},
   "outputs": [],
   "source": []
  },
  {
   "cell_type": "code",
   "execution_count": null,
   "id": "839b395a",
   "metadata": {},
   "outputs": [],
   "source": []
  }
 ],
 "metadata": {
  "kernelspec": {
   "display_name": "Python 3 (ipykernel)",
   "language": "python",
   "name": "python3"
  },
  "language_info": {
   "codemirror_mode": {
    "name": "ipython",
    "version": 3
   },
   "file_extension": ".py",
   "mimetype": "text/x-python",
   "name": "python",
   "nbconvert_exporter": "python",
   "pygments_lexer": "ipython3",
   "version": "3.11.2"
  }
 },
 "nbformat": 4,
 "nbformat_minor": 5
}
